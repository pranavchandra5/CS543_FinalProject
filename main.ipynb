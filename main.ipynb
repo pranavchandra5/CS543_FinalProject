{
 "cells": [
  {
   "cell_type": "markdown",
   "metadata": {},
   "source": [
    "# Generating a FlipBook from Random Burst Images\n",
    "\n",
    "CS 543 Final Project\n"
   ]
  },
  {
   "cell_type": "code",
   "execution_count": 17,
   "metadata": {},
   "outputs": [],
   "source": [
    "import os\n",
    "import random\n",
    "import cv2\n",
    "import shutil\n",
    "import string\n",
    "from tqdm import tqdm"
   ]
  },
  {
   "cell_type": "code",
   "execution_count": 18,
   "metadata": {},
   "outputs": [
    {
     "name": "stdout",
     "output_type": "stream",
     "text": [
      "Randomly selected file: DJI_0876.MOV\n"
     ]
    }
   ],
   "source": [
    "input_data_directory = 'data'\n",
    "\n",
    "files = os.listdir(input_data_directory)\n",
    "video_files = [file for file in files if os.path.isfile(\n",
    "    os.path.join(input_data_directory, file))]\n",
    "\n",
    "video_filename = None\n",
    "if video_files:\n",
    "    video_filename = random.choice(video_files)\n",
    "    print(f\"Randomly selected file: {video_filename}\")\n",
    "else:\n",
    "    raise ValueError(\"ERROR: No video files found in the directory.\")"
   ]
  },
  {
   "cell_type": "code",
   "execution_count": 19,
   "metadata": {},
   "outputs": [],
   "source": [
    "temp_directory = \"temp\"\n",
    "\n",
    "# Delete any pre-existing temp data\n",
    "for dir_name in os.listdir(temp_directory):\n",
    "    dir_path = os.path.join(temp_directory, dir_name)\n",
    "    if os.path.isdir(dir_path):\n",
    "        shutil.rmtree(dir_path)"
   ]
  },
  {
   "cell_type": "code",
   "execution_count": 20,
   "metadata": {},
   "outputs": [
    {
     "name": "stdout",
     "output_type": "stream",
     "text": [
      "Extracted 125 frames to 'temp\\DJI_0876.MOV'.\n"
     ]
    }
   ],
   "source": [
    "def extract_random_frames(video_file, percentage):\n",
    "    cap = cv2.VideoCapture(os.path.join(input_data_directory, video_file))\n",
    "    if not cap.isOpened():\n",
    "        print(\"Error: Cannot open video file.\")\n",
    "        return\n",
    "\n",
    "    total_frames = int(cap.get(cv2.CAP_PROP_FRAME_COUNT))\n",
    "    sample_size = max(1, int(percentage * total_frames))\n",
    "\n",
    "    frame_indices = sorted(random.sample(range(total_frames), sample_size))\n",
    "\n",
    "    output_folder = os.path.join(temp_directory, video_file)\n",
    "    os.makedirs(output_folder, exist_ok=True)\n",
    "\n",
    "    frame_count = 0\n",
    "    current_index = 1\n",
    "    saved_count = 0\n",
    "    while cap.isOpened():\n",
    "        ret, frame = cap.read()\n",
    "        if not ret:\n",
    "            break\n",
    "\n",
    "        if frame_count in frame_indices:\n",
    "            output_path = os.path.join(\n",
    "                output_folder, \"{:05}.jpg\".format(current_index))\n",
    "            cv2.imwrite(output_path, frame)\n",
    "            saved_count += 1\n",
    "            print(f\"Got Image {current_index} / {len(frame_indices)}: {100 * (current_index / float(len(frame_indices))): .3f}%\", end=\"\\r\", flush=True)\n",
    "            current_index += 1\n",
    "\n",
    "        frame_count += 1\n",
    "        if saved_count >= sample_size:\n",
    "            break\n",
    "\n",
    "    cap.release()\n",
    "    print(f\"Extracted {saved_count} frames to '{output_folder}'.\")\n",
    "    return output_folder\n",
    "\n",
    "sampling_percentage = 0.1\n",
    "temp_data_folder = extract_random_frames(video_filename, sampling_percentage)"
   ]
  },
  {
   "cell_type": "code",
   "execution_count": 21,
   "metadata": {},
   "outputs": [
    {
     "name": "stdout",
     "output_type": "stream",
     "text": [
      "Video created successfully: output\\DJI_0876_gt.MP4\n"
     ]
    }
   ],
   "source": [
    "output_directory = \"output\"\n",
    "\n",
    "def create_ground_truth_video_from_images(image_folder, output_video, framerate=30):\n",
    "    images = sorted(\n",
    "        [f for f in os.listdir(image_folder) if f.endswith(\".jpg\")],\n",
    "        key=lambda x: int(os.path.splitext(x)[0])\n",
    "    )\n",
    "\n",
    "    if not images:\n",
    "        print(\"No images found in the specified folder.\")\n",
    "        return\n",
    "\n",
    "    first_image_path = os.path.join(image_folder, images[0])\n",
    "    frame = cv2.imread(first_image_path)\n",
    "    height, width, layers = frame.shape\n",
    "    size = (width, height)\n",
    "\n",
    "    fourcc = cv2.VideoWriter_fourcc(*'mp4v')\n",
    "    out = cv2.VideoWriter(output_video, fourcc, framerate, size)\n",
    "\n",
    "    for image in images:\n",
    "        image_path = os.path.join(image_folder, image)\n",
    "        frame = cv2.imread(image_path)\n",
    "        out.write(frame)\n",
    "\n",
    "    out.release()\n",
    "    print(f\"Video created successfully: {output_video}\")\n",
    "\n",
    "create_ground_truth_video_from_images(temp_data_folder, os.path.join(output_directory, f\"{os.path.splitext(video_filename)[0]}_gt.MP4\"))"
   ]
  },
  {
   "cell_type": "code",
   "execution_count": 22,
   "metadata": {},
   "outputs": [
    {
     "name": "stderr",
     "output_type": "stream",
     "text": [
      "100%|██████████| 125/125 [00:00<00:00, 246.25it/s]"
     ]
    },
    {
     "name": "stdout",
     "output_type": "stream",
     "text": [
      "Original Num Images == New Num Images in temp\\DJI_0876.MOV\n"
     ]
    },
    {
     "name": "stderr",
     "output_type": "stream",
     "text": [
      "\n"
     ]
    }
   ],
   "source": [
    "def generate_random_name(length=10):\n",
    "    return ''.join(random.choices(string.ascii_letters + string.digits, k=length))\n",
    "\n",
    "def rename_files_in_directory(directory):\n",
    "    files = os.listdir(directory)\n",
    "    original_num_files = len(files)\n",
    "    \n",
    "    jpg_files = [f for f in files if f.lower().endswith('.jpg')]\n",
    "    \n",
    "    used_names = set()\n",
    "\n",
    "    for file in tqdm(jpg_files):\n",
    "        while True:\n",
    "            new_name = generate_random_name()\n",
    "            if new_name not in used_names:\n",
    "                used_names.add(new_name)\n",
    "                break\n",
    "        \n",
    "        original_path = os.path.join(directory, file)\n",
    "        new_path = os.path.join(directory, f\"{new_name}.jpg\")\n",
    "        \n",
    "        os.rename(original_path, new_path)\n",
    "        # print(f\"Renamed {file} to {new_name}.jpg\")\n",
    "    \n",
    "    files = os.listdir(directory)\n",
    "    new_num_files = len(files)\n",
    "    if new_num_files == original_num_files:\n",
    "        print(f\"Original Num Images == New Num Images in {directory}\")\n",
    "    else:\n",
    "        raise ValueError(f\"Original Num Images != New Num Images in {directory}\")\n",
    "    \n",
    "rename_files_in_directory(temp_data_folder)"
   ]
  },
  {
   "cell_type": "code",
   "execution_count": null,
   "metadata": {},
   "outputs": [],
   "source": []
  }
 ],
 "metadata": {
  "kernelspec": {
   "display_name": "Python 3",
   "language": "python",
   "name": "python3"
  },
  "language_info": {
   "codemirror_mode": {
    "name": "ipython",
    "version": 3
   },
   "file_extension": ".py",
   "mimetype": "text/x-python",
   "name": "python",
   "nbconvert_exporter": "python",
   "pygments_lexer": "ipython3",
   "version": "3.8.5"
  }
 },
 "nbformat": 4,
 "nbformat_minor": 2
}
